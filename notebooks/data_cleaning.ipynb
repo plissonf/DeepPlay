{
 "cells": [
  {
   "cell_type": "code",
   "execution_count": 3,
   "metadata": {
    "collapsed": true
   },
   "outputs": [],
   "source": [
    "from bs4 import BeautifulSoup\n",
    "from lxml import html\n",
    "import requests as rq\n",
    "import pandas as pd\n",
    "import re\n",
    "import logging"
   ]
  },
  {
   "cell_type": "code",
   "execution_count": 4,
   "metadata": {
    "collapsed": true
   },
   "outputs": [],
   "source": [
    "def get_discipline_value(key):\n",
    "    '''This function selects one of 6 disciplines (dictionary keys) and allocates its corresponding value (id)\n",
    "    to discipline_url. The function is called in scraper() function to obtain corresponding html pages'''\n",
    "\n",
    "    disc = {'STA': 8 ,\n",
    "        'DYN': 6,\n",
    "        'DNF': 7,\n",
    "        'CWT': 3,\n",
    "        'CNF': 4,\n",
    "        'FIM': 5\n",
    "        }\n",
    "    if key in disc.keys():\n",
    "        value = disc[key]\n",
    "        discipline_url = '{}{}'.format('&disciplineId=', value) \n",
    "        return discipline_url\n",
    "    else:\n",
    "        logging.warning('Check your spelling. ' + key + ' is not a freediving discipline')\n",
    "        "
   ]
  },
  {
   "cell_type": "code",
   "execution_count": 108,
   "metadata": {
    "collapsed": false
   },
   "outputs": [],
   "source": [
    "def cleanser(list0):\n",
    "    df = pd.DataFrame(list0)\n",
    "    df.columns = ['Ranking', 'Name', 'Results', 'Announced', 'Points', 'Penalties', 'Date', 'Place']\n",
    "    df['Ranking'] = df['Ranking'].str.replace('.', '')\n",
    "    #del df['Ranking']\n",
    "    df['Country'] = df['Name'].str.extract('.*\\((.*)\\).*', expand=True)\n",
    "    df['Name'] = df['Name'].str.replace(r\"\\(.*\\)\",\"\")\n",
    "    df['Results'] = df['Results'].str.replace('m', '')\n",
    "    df['Date'] = pd.to_datetime(df['Date'])\n",
    "    df = df.drop_duplicates(['Name', 'Results', 'Announced', 'Points', 'Penalties', 'Date', 'Place', 'Country'])\n",
    "    print df"
   ]
  },
  {
   "cell_type": "code",
   "execution_count": 109,
   "metadata": {
    "collapsed": true
   },
   "outputs": [],
   "source": [
    "def scraper(key):\n",
    "    ''' This function crawls through an entire freediving discipline, regardless how many pages it consists of. '''\n",
    "\n",
    "    #Obtain html code for url and Parse the page\n",
    "    base_url = 'https://www.aidainternational.org/Ranking/Rankings?page='\n",
    "    url = '{}1{}'.format(base_url, get_discipline_value(key))\n",
    "    page = rq.get(url)\n",
    "    soup = BeautifulSoup(page.content, \"lxml\")\n",
    "\n",
    "\n",
    "    #Use regex to identify the maximum number of pages for the discipline of interest\n",
    "    #page_count = soup.findAll(text=re.compile(r\"Page .+ of .+\"))\n",
    "    #max_pages = str(page_count).split(' ')[3].split('\\\\')[0]\n",
    "\n",
    "    data = []\n",
    "    for p in range(1, 3):\n",
    "\n",
    "        #For each page, create corresponding url, request the library, obtain html code and parse the page\n",
    "        url = '{}{}{}'.format(base_url, p, get_discipline_value(key))\n",
    "\n",
    "        #The break plays the role of safety guard if dictionary key is wrong (not spelled properly or non-existent) then the request\n",
    "        #for library is not executed (and not going through the for loop to generate the data), an empty dataframe is saved\n",
    "        if url == '{}{}None'.format(base_url, p):\n",
    "            break\n",
    "        else:\n",
    "            new_page = rq.get(url)\n",
    "            new_soup = BeautifulSoup(new_page.content, \"lxml\")\n",
    "\n",
    "            #For each page, each parsed page is saved into the list named \"data\"\n",
    "            rows = new_soup.table.tbody.findAll('tr')\n",
    "            for row in rows:\n",
    "                cols = row.find_all('td')\n",
    "                cols = [ele.text.strip() for ele in cols]\n",
    "                data.append([ele for ele in cols if ele])\n",
    "\n",
    "            p += 1\n",
    "\n",
    "    #Results from list \"data\" are saved in a dataframe df\n",
    "    cleaner(data)\n",
    "    \n",
    "    \n",
    "    \n",
    "    #df=pd.DataFrame(data, columns = [\"Ranking\", \"Name\", \"Results\", \"Announced\", \"Points\", \"Penalties\", \"Date\", \"Place\"])\n",
    "    #return df\n",
    "    \n",
    "    #logging.warning('Finished!')\n",
    "\n",
    "    #Dataframe df is saved in file results.txt to access results offline\n",
    "    #filename = '/Users/fabienplisson/Desktop/Github_shares/DeepPlay/deepplay/data/web_scraped/results_{}.txt'.format(key)\n",
    "    #with open(filename, 'a') as f:\n",
    "        #f.write(str(df))\n",
    "    #f.closed\n"
   ]
  },
  {
   "cell_type": "code",
   "execution_count": 110,
   "metadata": {
    "collapsed": false
   },
   "outputs": [
    {
     "name": "stdout",
     "output_type": "stream",
     "text": [
      "   Ranking                Name Results Announced Points Penalties       Date  \\\n",
      "0        1   Alexey MOLCHANOV     128        128    127         1 2012-11-20   \n",
      "3        4   Alexey MOLCHANOV     128        128    128         0 2013-09-15   \n",
      "4        5   Alexey MOLCHANOV     128        128      0         0 2013-09-09   \n",
      "5        6     Guillaume NÉRY     126        126    126         0 2015-09-05   \n",
      "6        7   Alexey MOLCHANOV     126        126    126         0 2012-11-20   \n",
      "9       10     Guillaume NÉRY     125        125    125         0 2013-09-09   \n",
      "10      11      David MULLINS     125        125    125         0 2013-09-09   \n",
      "11      12     Herbert NITSCH     124        124    124         0 2010-04-27   \n",
      "12      13     Herbert NITSCH     123        123    123         0 2009-12-06   \n",
      "13      14     Guillaume NÉRY     123        123    123         0 2012-11-20   \n",
      "14      15   Alexey MOLCHANOV     123        123    123         0 2014-05-25   \n",
      "15      16   Alexey MOLCHANOV     123        123    123         0 2014-11-27   \n",
      "16      17    Martin STEPANEK     122        122    122         0 2009-05-23   \n",
      "17      18   Alexey MOLCHANOV     122        123    120         2 2015-09-11   \n",
      "18      19     Guillaume NÉRY     121        121    121         0 2012-11-20   \n",
      "19      20   Alexey MOLCHANOV     121        121    121         0 2012-11-20   \n",
      "22      23  William TRUBRIDGE     121        121    121         0 2012-11-20   \n",
      "25      26     Herbert NITSCH     120        120    120         0 2009-04-03   \n",
      "26      27   Alexey MOLCHANOV     120        120    120         0 2014-09-19   \n",
      "27      28  William TRUBRIDGE     120        120    120         0 2012-05-03   \n",
      "28      29  William TRUBRIDGE     120        120    120         0 2013-09-15   \n",
      "29      30  William TRUBRIDGE     120        120    120         0 2013-11-09   \n",
      "30      31  William TRUBRIDGE     120        120    120         0 2015-04-27   \n",
      "31      32     Guillaume NÉRY     119        123    114         5 2013-09-15   \n",
      "32      33     Guillaume NÉRY     118        118    118         0 2012-11-20   \n",
      "33      34      David MULLINS     118        118    117         1 2010-04-27   \n",
      "34      35     Guillaume NÉRY     117        117    117         0 2011-09-15   \n",
      "35      36  William TRUBRIDGE     117        117    117         0 2014-11-27   \n",
      "36      37       Carlos COSTE     116        116    116         0 2011-09-15   \n",
      "37      38  William TRUBRIDGE     116        116    116         0 2010-04-27   \n",
      "38      39  William TRUBRIDGE     116        117    109         7 2011-04-17   \n",
      "39      40  William TRUBRIDGE     116        120    111         5 2013-05-20   \n",
      "\n",
      "                                                Place             Country  \n",
      "0                           Suunto Vertical Blue 2012  Russian Federation  \n",
      "3       AIDA INDIVIDUAL DEPHT WORLD CHAMPIONSHIP 2013  Russian Federation  \n",
      "4                                  2013 Kalamata Open  Russian Federation  \n",
      "5   2015 AIDA Depth World Championships Pre compet...              France  \n",
      "6                           Suunto Vertical Blue 2012  Russian Federation  \n",
      "9                                  2013 Kalamata Open              France  \n",
      "10                                 2013 Kalamata Open         New Zealand  \n",
      "11           Vertical Blue 2010 - the Suunto Dive-Off             Austria  \n",
      "12    WR Attempt - NITSCH Herbert(CWT, FIM, VWT, CNF)             Austria  \n",
      "13                          Suunto Vertical Blue 2012              France  \n",
      "14                                 Caribbean Cup 2014  Russian Federation  \n",
      "15                               Suunto Vertical Blue  Russian Federation  \n",
      "16        WR Attempt - STEPANEK Martin(CWT, FIM, CNF)      Czech Republic  \n",
      "17                2015 AIDA Depth World Championships  Russian Federation  \n",
      "18                          Suunto Vertical Blue 2012              France  \n",
      "19                          Suunto Vertical Blue 2012  Russian Federation  \n",
      "22                          Suunto Vertical Blue 2012         New Zealand  \n",
      "25                                 Vertical Blue 2009             Austria  \n",
      "26                 AIDA Team World Championships 2014  Russian Federation  \n",
      "27                          Deans Blue Hole Mini-comp         New Zealand  \n",
      "28      AIDA INDIVIDUAL DEPHT WORLD CHAMPIONSHIP 2013         New Zealand  \n",
      "29                                 Vertical Blue 2013         New Zealand  \n",
      "30                          Suunto Vertical Blue 2015         New Zealand  \n",
      "31      AIDA INDIVIDUAL DEPHT WORLD CHAMPIONSHIP 2013              France  \n",
      "32                          Suunto Vertical Blue 2012              France  \n",
      "33           Vertical Blue 2010 - the Suunto Dive-Off         New Zealand  \n",
      "34      AIDA Individual Depth World Championship 2011              France  \n",
      "35                               Suunto Vertical Blue         New Zealand  \n",
      "36      AIDA Individual Depth World Championship 2011           Venezuela  \n",
      "37           Vertical Blue 2010 - the Suunto Dive-Off         New Zealand  \n",
      "38                                 Vertical Blue 2011         New Zealand  \n",
      "39                                 Caribbean Cup 2013         New Zealand  \n"
     ]
    }
   ],
   "source": [
    "scraper('CWT')"
   ]
  },
  {
   "cell_type": "code",
   "execution_count": null,
   "metadata": {
    "collapsed": true
   },
   "outputs": [],
   "source": []
  }
 ],
 "metadata": {
  "anaconda-cloud": {},
  "kernelspec": {
   "display_name": "Python [Root]",
   "language": "python",
   "name": "Python [Root]"
  },
  "language_info": {
   "codemirror_mode": {
    "name": "ipython",
    "version": 2
   },
   "file_extension": ".py",
   "mimetype": "text/x-python",
   "name": "python",
   "nbconvert_exporter": "python",
   "pygments_lexer": "ipython2",
   "version": "2.7.12"
  }
 },
 "nbformat": 4,
 "nbformat_minor": 0
}
